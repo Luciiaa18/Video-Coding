{
  "nbformat": 4,
  "nbformat_minor": 0,
  "metadata": {
    "colab": {
      "provenance": []
    },
    "kernelspec": {
      "name": "python3",
      "display_name": "Python 3"
    },
    "language_info": {
      "name": "python"
    }
  },
  "cells": [
    {
      "cell_type": "markdown",
      "source": [
        "# **1.**  INSTALLING FFMPEG"
      ],
      "metadata": {
        "id": "CJebt50HYzAO"
      }
    },
    {
      "cell_type": "code",
      "execution_count": null,
      "metadata": {
        "colab": {
          "base_uri": "https://localhost:8080/"
        },
        "id": "YD7uwyPNEVgr",
        "outputId": "bdffead4-6b8b-41cd-8dbc-d2c7d9279d62"
      },
      "outputs": [
        {
          "output_type": "stream",
          "name": "stdout",
          "text": [
            "Get:1 http://security.ubuntu.com/ubuntu jammy-security InRelease [129 kB]\n",
            "Hit:2 http://archive.ubuntu.com/ubuntu jammy InRelease\n",
            "Get:3 http://archive.ubuntu.com/ubuntu jammy-updates InRelease [128 kB]\n",
            "Get:4 https://cloud.r-project.org/bin/linux/ubuntu jammy-cran40/ InRelease [3,626 B]\n",
            "Get:5 https://r2u.stat.illinois.edu/ubuntu jammy InRelease [6,555 B]\n",
            "Get:6 https://developer.download.nvidia.com/compute/cuda/repos/ubuntu2204/x86_64  InRelease [1,581 B]\n",
            "Get:7 http://archive.ubuntu.com/ubuntu jammy-backports InRelease [127 kB]\n",
            "Get:8 https://ppa.launchpadcontent.net/deadsnakes/ppa/ubuntu jammy InRelease [18.1 kB]\n",
            "Hit:9 https://ppa.launchpadcontent.net/graphics-drivers/ppa/ubuntu jammy InRelease\n",
            "Hit:10 https://ppa.launchpadcontent.net/ubuntugis/ppa/ubuntu jammy InRelease\n",
            "Get:11 http://archive.ubuntu.com/ubuntu jammy-updates/universe amd64 Packages [1,512 kB]\n",
            "Get:12 http://archive.ubuntu.com/ubuntu jammy-updates/multiverse amd64 Packages [52.2 kB]\n",
            "Get:13 http://archive.ubuntu.com/ubuntu jammy-updates/main amd64 Packages [2,732 kB]\n",
            "Get:14 http://archive.ubuntu.com/ubuntu jammy-updates/restricted amd64 Packages [3,408 kB]\n",
            "Get:15 http://security.ubuntu.com/ubuntu jammy-security/restricted amd64 Packages [3,318 kB]\n",
            "Get:16 http://security.ubuntu.com/ubuntu jammy-security/main amd64 Packages [2,449 kB]\n",
            "Get:17 http://security.ubuntu.com/ubuntu jammy-security/multiverse amd64 Packages [45.2 kB]\n",
            "Get:18 http://security.ubuntu.com/ubuntu jammy-security/universe amd64 Packages [1,223 kB]\n",
            "Get:19 https://r2u.stat.illinois.edu/ubuntu jammy/main all Packages [8,487 kB]\n",
            "Get:20 https://developer.download.nvidia.com/compute/cuda/repos/ubuntu2204/x86_64  Packages [1,172 kB]\n",
            "Get:21 https://r2u.stat.illinois.edu/ubuntu jammy/main amd64 Packages [2,613 kB]\n",
            "Get:22 https://ppa.launchpadcontent.net/deadsnakes/ppa/ubuntu jammy/main amd64 Packages [34.2 kB]\n",
            "Fetched 27.5 MB in 6s (4,505 kB/s)\n",
            "Reading package lists... Done\n",
            "Building dependency tree... Done\n",
            "Reading state information... Done\n",
            "57 packages can be upgraded. Run 'apt list --upgradable' to see them.\n",
            "\u001b[1;33mW: \u001b[0mSkipping acquire of configured file 'main/source/Sources' as repository 'https://r2u.stat.illinois.edu/ubuntu jammy InRelease' does not seem to provide it (sources.list entry misspelt?)\u001b[0m\n",
            "Reading package lists... Done\n",
            "Building dependency tree... Done\n",
            "Reading state information... Done\n",
            "ffmpeg is already the newest version (7:4.4.2-0ubuntu0.22.04.1).\n",
            "0 upgraded, 0 newly installed, 0 to remove and 57 not upgraded.\n"
          ]
        }
      ],
      "source": [
        "!sudo apt update\n",
        "!sudo apt install -y ffmpeg"
      ]
    },
    {
      "cell_type": "code",
      "source": [
        "!ffmpeg -version\n"
      ],
      "metadata": {
        "colab": {
          "base_uri": "https://localhost:8080/"
        },
        "id": "nhsLEw50E2HI",
        "outputId": "8f53333b-715f-488b-bac0-34cf2909594b"
      },
      "execution_count": null,
      "outputs": [
        {
          "output_type": "stream",
          "name": "stdout",
          "text": [
            "ffmpeg version 4.4.2-0ubuntu0.22.04.1 Copyright (c) 2000-2021 the FFmpeg developers\n",
            "built with gcc 11 (Ubuntu 11.2.0-19ubuntu1)\n",
            "configuration: --prefix=/usr --extra-version=0ubuntu0.22.04.1 --toolchain=hardened --libdir=/usr/lib/x86_64-linux-gnu --incdir=/usr/include/x86_64-linux-gnu --arch=amd64 --enable-gpl --disable-stripping --enable-gnutls --enable-ladspa --enable-libaom --enable-libass --enable-libbluray --enable-libbs2b --enable-libcaca --enable-libcdio --enable-libcodec2 --enable-libdav1d --enable-libflite --enable-libfontconfig --enable-libfreetype --enable-libfribidi --enable-libgme --enable-libgsm --enable-libjack --enable-libmp3lame --enable-libmysofa --enable-libopenjpeg --enable-libopenmpt --enable-libopus --enable-libpulse --enable-librabbitmq --enable-librubberband --enable-libshine --enable-libsnappy --enable-libsoxr --enable-libspeex --enable-libsrt --enable-libssh --enable-libtheora --enable-libtwolame --enable-libvidstab --enable-libvorbis --enable-libvpx --enable-libwebp --enable-libx265 --enable-libxml2 --enable-libxvid --enable-libzimg --enable-libzmq --enable-libzvbi --enable-lv2 --enable-omx --enable-openal --enable-opencl --enable-opengl --enable-sdl2 --enable-pocketsphinx --enable-librsvg --enable-libmfx --enable-libdc1394 --enable-libdrm --enable-libiec61883 --enable-chromaprint --enable-frei0r --enable-libx264 --enable-shared\n",
            "libavutil      56. 70.100 / 56. 70.100\n",
            "libavcodec     58.134.100 / 58.134.100\n",
            "libavformat    58. 76.100 / 58. 76.100\n",
            "libavdevice    58. 13.100 / 58. 13.100\n",
            "libavfilter     7.110.100 /  7.110.100\n",
            "libswscale      5.  9.100 /  5.  9.100\n",
            "libswresample   3.  9.100 /  3.  9.100\n",
            "libpostproc    55.  9.100 / 55.  9.100\n"
          ]
        }
      ]
    },
    {
      "cell_type": "markdown",
      "source": [
        "# **2.** COLOR CONVERTER"
      ],
      "metadata": {
        "id": "tEF7sryLZW9w"
      }
    },
    {
      "cell_type": "code",
      "source": [
        "class ColorConverter:\n",
        "    @staticmethod\n",
        "    def rgb_to_yuv(r, g, b):\n",
        "        print(f\"Input RGB values: R={r}, G={g}, B={b}\")\n",
        "        # Fórmulas de conversión RGB a YUV\n",
        "        y = round(0.299 * r + 0.587 * g + 0.114 * b, 2)\n",
        "        u = round(-0.14713 * r - 0.28886 * g + 0.436 * b, 2)\n",
        "        v = round(0.615 * r - 0.51499 * g - 0.10001 * b, 2)\n",
        "        return y, u, v\n",
        "\n",
        "    @staticmethod\n",
        "    def yuv_to_rgb(y, u, v):\n",
        "        print(f\"Input YUV values: Y={y}, U={u}, V={v}\")\n",
        "        # Fórmulas de conversión YUV a RGB\n",
        "        r = round(y + 1.13983 * v, 2)\n",
        "        g = round(y - 0.39465 * u - 0.58060 * v, 2)\n",
        "        b = round(y + 2.03211 * u, 2)\n",
        "        return r, g, b\n"
      ],
      "metadata": {
        "id": "MwC9bOwuE6IW"
      },
      "execution_count": null,
      "outputs": []
    },
    {
      "cell_type": "code",
      "source": [
        "# Valores de ejemplo\n",
        "r, g, b = 100, 150, 200\n",
        "y, u, v = ColorConverter.rgb_to_yuv(r, g, b)\n",
        "print(\"Converted to YUV:\", y, u, v)\n",
        "\n",
        "r_new, g_new, b_new = ColorConverter.yuv_to_rgb(y, u, v)\n",
        "print(\"Converted back to RGB:\", r_new, g_new, b_new)\n"
      ],
      "metadata": {
        "colab": {
          "base_uri": "https://localhost:8080/"
        },
        "id": "Gwst0cJVFJN7",
        "outputId": "2c64fc44-3451-4117-fc6d-6c619617d624"
      },
      "execution_count": null,
      "outputs": [
        {
          "output_type": "stream",
          "name": "stdout",
          "text": [
            "Input RGB values: R=100, G=150, B=200\n",
            "Converted to YUV: 140.75 29.16 -35.75\n",
            "Input YUV values: Y=140.75, U=29.16, V=-35.75\n",
            "Converted back to RGB: 100.0 150.0 200.01\n"
          ]
        }
      ]
    },
    {
      "cell_type": "markdown",
      "source": [
        "# **3.** RESIZING INTO LOWER QUALITY"
      ],
      "metadata": {
        "id": "IHY6Ps8WZkBB"
      }
    },
    {
      "cell_type": "code",
      "source": [
        "!ffmpeg -i /content/photo.jpg -vf scale=320:240 -q:v 30 /content/photo_low.jpg"
      ],
      "metadata": {
        "colab": {
          "base_uri": "https://localhost:8080/"
        },
        "id": "7PcvSqZmL-mY",
        "outputId": "de6983f3-d2f1-46a1-dfb0-2f79ce24537f"
      },
      "execution_count": null,
      "outputs": [
        {
          "output_type": "stream",
          "name": "stdout",
          "text": [
            "ffmpeg version 4.4.2-0ubuntu0.22.04.1 Copyright (c) 2000-2021 the FFmpeg developers\n",
            "  built with gcc 11 (Ubuntu 11.2.0-19ubuntu1)\n",
            "  configuration: --prefix=/usr --extra-version=0ubuntu0.22.04.1 --toolchain=hardened --libdir=/usr/lib/x86_64-linux-gnu --incdir=/usr/include/x86_64-linux-gnu --arch=amd64 --enable-gpl --disable-stripping --enable-gnutls --enable-ladspa --enable-libaom --enable-libass --enable-libbluray --enable-libbs2b --enable-libcaca --enable-libcdio --enable-libcodec2 --enable-libdav1d --enable-libflite --enable-libfontconfig --enable-libfreetype --enable-libfribidi --enable-libgme --enable-libgsm --enable-libjack --enable-libmp3lame --enable-libmysofa --enable-libopenjpeg --enable-libopenmpt --enable-libopus --enable-libpulse --enable-librabbitmq --enable-librubberband --enable-libshine --enable-libsnappy --enable-libsoxr --enable-libspeex --enable-libsrt --enable-libssh --enable-libtheora --enable-libtwolame --enable-libvidstab --enable-libvorbis --enable-libvpx --enable-libwebp --enable-libx265 --enable-libxml2 --enable-libxvid --enable-libzimg --enable-libzmq --enable-libzvbi --enable-lv2 --enable-omx --enable-openal --enable-opencl --enable-opengl --enable-sdl2 --enable-pocketsphinx --enable-librsvg --enable-libmfx --enable-libdc1394 --enable-libdrm --enable-libiec61883 --enable-chromaprint --enable-frei0r --enable-libx264 --enable-shared\n",
            "  libavutil      56. 70.100 / 56. 70.100\n",
            "  libavcodec     58.134.100 / 58.134.100\n",
            "  libavformat    58. 76.100 / 58. 76.100\n",
            "  libavdevice    58. 13.100 / 58. 13.100\n",
            "  libavfilter     7.110.100 /  7.110.100\n",
            "  libswscale      5.  9.100 /  5.  9.100\n",
            "  libswresample   3.  9.100 /  3.  9.100\n",
            "  libpostproc    55.  9.100 / 55.  9.100\n",
            "Input #0, image2, from '/content/photo.jpg':\n",
            "  Duration: 00:00:00.04, start: 0.000000, bitrate: 207892 kb/s\n",
            "  Stream #0:0: Video: mjpeg (Progressive), yuvj420p(pc, bt470bg/unknown/unknown), 3000x2000 [SAR 72:72 DAR 3:2], 25 fps, 25 tbr, 25 tbn, 25 tbc\n",
            "Stream mapping:\n",
            "  Stream #0:0 -> #0:0 (mjpeg (native) -> mjpeg (native))\n",
            "Press [q] to stop, [?] for help\n",
            "\u001b[1;34m[swscaler @ 0x59ee20e9f640] \u001b[0m\u001b[0;33mdeprecated pixel format used, make sure you did set range correctly\n",
            "\u001b[0mOutput #0, image2, to '/content/photo_low.jpg':\n",
            "  Metadata:\n",
            "    encoder         : Lavf58.76.100\n",
            "  Stream #0:0: Video: mjpeg, yuvj420p(pc, bt470bg/unknown/unknown, progressive), 320x240 [SAR 9:8 DAR 3:2], q=2-31, 200 kb/s, 25 fps, 25 tbn\n",
            "    Metadata:\n",
            "      encoder         : Lavc58.134.100 mjpeg\n",
            "    Side data:\n",
            "      cpb: bitrate max/min/avg: 0/0/200000 buffer size: 0 vbv_delay: N/A\n",
            "frame=    1 fps=0.0 q=0.0 size=N/A time=00:00:00.00 bitrate=N/A speed=N/A    \rframe=    1 fps=0.0 q=30.0 Lsize=N/A time=00:00:00.04 bitrate=N/A speed=0.31x    \n",
            "video:3kB audio:0kB subtitle:0kB other streams:0kB global headers:0kB muxing overhead: unknown\n"
          ]
        }
      ]
    },
    {
      "cell_type": "code",
      "source": [
        "from IPython.display import Image\n",
        "Image('/content/photo_low.jpg')"
      ],
      "metadata": {
        "colab": {
          "base_uri": "https://localhost:8080/",
          "height": 257
        },
        "id": "q76lYcjyMHdA",
        "outputId": "06f88b53-e429-4d50-efeb-5cfbec9c5bf0"
      },
      "execution_count": null,
      "outputs": [
        {
          "output_type": "execute_result",
          "data": {
            "image/jpeg": "[encoded data removed]",
            "text/plain": [
              "<IPython.core.display.Image object>"
            ]
          },
          "metadata": {},
          "execution_count": 40
        }
      ]
    },
    {
      "cell_type": "code",
      "source": [
        "import subprocess\n",
        "\n",
        "class ImageProcessor:\n",
        "    @staticmethod\n",
        "    def resize_image(input_file, output_file, width, height, quality):\n",
        "        \"\"\"\n",
        "        Redimensiona una imagen usando FFmpeg.\n",
        "        Args:\n",
        "            input_file (str): Ruta del archivo de entrada.\n",
        "            output_file (str): Ruta del archivo de salida.\n",
        "            width (int): Ancho de la imagen redimensionada.\n",
        "            height (int): Altura de la imagen redimensionada.\n",
        "            quality (int): Nivel de calidad (mayor = peor calidad).\n",
        "        \"\"\"\n",
        "        command = [\n",
        "            \"ffmpeg\", \"-i\", input_file,\n",
        "            \"-vf\", f\"scale={width}:{height}\",\n",
        "            \"-q:v\", str(quality),\n",
        "            output_file\n",
        "        ]\n",
        "        subprocess.run(command, check=True)\n",
        "        print(f\"Image resized and saved as {output_file}\")\n"
      ],
      "metadata": {
        "id": "H7snQplaMKqU"
      },
      "execution_count": null,
      "outputs": []
    },
    {
      "cell_type": "code",
      "source": [
        "# Usamos la imagen en /content/photo.jpg\n",
        "input_image = '/content/photo.jpg'\n",
        "output_image = '/content/photo_low_auto.jpg'\n",
        "\n",
        "# Redimensionamos a 320x240 con calidad 30\n",
        "ImageProcessor.resize_image(input_image, output_image, 320, 240, 30)\n",
        "\n",
        "# Verificamos el resultado\n",
        "from IPython.display import Image\n",
        "Image(output_image)"
      ],
      "metadata": {
        "colab": {
          "base_uri": "https://localhost:8080/",
          "height": 274
        },
        "id": "_j7uX9coMNJI",
        "outputId": "f2f78951-9487-46cc-af8a-f6eec4c3f830"
      },
      "execution_count": null,
      "outputs": [
        {
          "output_type": "stream",
          "name": "stdout",
          "text": [
            "Image resized and saved as /content/photo_low_auto.jpg\n"
          ]
        },
        {
          "output_type": "execute_result",
          "data": {
            "image/jpeg": "[encoded data removed]",
            "text/plain": [
              "<IPython.core.display.Image object>"
            ]
          },
          "metadata": {},
          "execution_count": 42
        }
      ]
    },
    {
      "cell_type": "markdown",
      "source": [
        "# **4.** SERPENTINE"
      ],
      "metadata": {
        "id": "aOSMLco-Z-Ly"
      }
    },
    {
      "cell_type": "code",
      "source": [
        "class JPEGProcessor:\n",
        "    @staticmethod\n",
        "    def serpentine(file_path):\n",
        "        \"\"\"\n",
        "        Lee los bytes de un archivo JPEG y los recorre en un patrón serpentino.\n",
        "        Args:\n",
        "            file_path (str): Ruta al archivo JPEG.\n",
        "        Returns:\n",
        "            list: Lista de bytes en orden serpentino.\n",
        "        \"\"\"\n",
        "        # Abrimos el archivo en modo binario y leemos los datos\n",
        "        with open(file_path, \"rb\") as file:\n",
        "            data = file.read()\n",
        "\n",
        "        # Creamos una matriz ficticia para simular las filas (aquí usamos filas de 16 bytes por ejemplo)\n",
        "        rows = [data[i:i+16] for i in range(0, len(data), 16)]\n",
        "\n",
        "        # Recorremos en patrón serpentino\n",
        "        serpentine_bytes = []\n",
        "        for i, row in enumerate(rows):\n",
        "            if i % 2 == 0:  # Fila normal (izquierda a derecha)\n",
        "                serpentine_bytes.extend(row)\n",
        "            else:  # Fila invertida (derecha a izquierda)\n",
        "                serpentine_bytes.extend(row[::-1])\n",
        "\n",
        "        return serpentine_bytes\n"
      ],
      "metadata": {
        "id": "muqQrTDwMSLw"
      },
      "execution_count": null,
      "outputs": []
    },
    {
      "cell_type": "code",
      "source": [
        "# Archivo JPEG de prueba\n",
        "file_path = '/content/photo_low.jpg'\n",
        "\n",
        "# Obtenemos los bytes en patrón serpentino\n",
        "serpentine_bytes = JPEGProcessor.serpentine(file_path)\n",
        "\n",
        "# Mostramos los primeros 100 bytes\n",
        "print(\"First 100 bytes (serpentine order):\", serpentine_bytes[:100])\n"
      ],
      "metadata": {
        "colab": {
          "base_uri": "https://localhost:8080/"
        },
        "id": "UgAbuOO-MaJx",
        "outputId": "92e5cd9d-5afb-411f-994d-1deb25b40b5c"
      },
      "execution_count": null,
      "outputs": [
        {
          "output_type": "stream",
          "name": "stdout",
          "text": [
            "First 100 bytes (serpentine order): [255, 216, 255, 224, 0, 16, 74, 70, 73, 70, 0, 1, 2, 0, 0, 9, 49, 46, 56, 53, 99, 118, 97, 76, 17, 0, 254, 255, 0, 0, 8, 0, 51, 52, 46, 49, 48, 48, 0, 255, 219, 0, 67, 0, 8, 60, 60, 71, 97, 97, 101, 101, 101, 97, 90, 97, 82, 82, 82, 82, 82, 82, 71, 60, 97, 97, 101, 101, 101, 108, 108, 108, 127, 127, 127, 108, 108, 108, 101, 101, 150, 142, 142, 131, 127, 131, 131, 138, 142, 138, 127, 127, 120, 120, 108, 108, 150, 150, 180, 180]\n"
          ]
        }
      ]
    },
    {
      "cell_type": "markdown",
      "source": [
        "# **5.** TRANSFORM INTO B/W"
      ],
      "metadata": {
        "id": "cfJqxsiraI6z"
      }
    },
    {
      "cell_type": "code",
      "source": [
        "!ffmpeg -i /content/photo_low.jpg -vf format=gray -q:v 30 /content/photo_bw.jpg"
      ],
      "metadata": {
        "colab": {
          "base_uri": "https://localhost:8080/"
        },
        "id": "CQgmzNuaMb2k",
        "outputId": "3d76a586-0379-4b4f-c206-91c50a46c5c8"
      },
      "execution_count": null,
      "outputs": [
        {
          "output_type": "stream",
          "name": "stdout",
          "text": [
            "ffmpeg version 4.4.2-0ubuntu0.22.04.1 Copyright (c) 2000-2021 the FFmpeg developers\n",
            "  built with gcc 11 (Ubuntu 11.2.0-19ubuntu1)\n",
            "  configuration: --prefix=/usr --extra-version=0ubuntu0.22.04.1 --toolchain=hardened --libdir=/usr/lib/x86_64-linux-gnu --incdir=/usr/include/x86_64-linux-gnu --arch=amd64 --enable-gpl --disable-stripping --enable-gnutls --enable-ladspa --enable-libaom --enable-libass --enable-libbluray --enable-libbs2b --enable-libcaca --enable-libcdio --enable-libcodec2 --enable-libdav1d --enable-libflite --enable-libfontconfig --enable-libfreetype --enable-libfribidi --enable-libgme --enable-libgsm --enable-libjack --enable-libmp3lame --enable-libmysofa --enable-libopenjpeg --enable-libopenmpt --enable-libopus --enable-libpulse --enable-librabbitmq --enable-librubberband --enable-libshine --enable-libsnappy --enable-libsoxr --enable-libspeex --enable-libsrt --enable-libssh --enable-libtheora --enable-libtwolame --enable-libvidstab --enable-libvorbis --enable-libvpx --enable-libwebp --enable-libx265 --enable-libxml2 --enable-libxvid --enable-libzimg --enable-libzmq --enable-libzvbi --enable-lv2 --enable-omx --enable-openal --enable-opencl --enable-opengl --enable-sdl2 --enable-pocketsphinx --enable-librsvg --enable-libmfx --enable-libdc1394 --enable-libdrm --enable-libiec61883 --enable-chromaprint --enable-frei0r --enable-libx264 --enable-shared\n",
            "  libavutil      56. 70.100 / 56. 70.100\n",
            "  libavcodec     58.134.100 / 58.134.100\n",
            "  libavformat    58. 76.100 / 58. 76.100\n",
            "  libavdevice    58. 13.100 / 58. 13.100\n",
            "  libavfilter     7.110.100 /  7.110.100\n",
            "  libswscale      5.  9.100 /  5.  9.100\n",
            "  libswresample   3.  9.100 /  3.  9.100\n",
            "  libpostproc    55.  9.100 / 55.  9.100\n",
            "Input #0, image2, from '/content/photo_low.jpg':\n",
            "  Duration: 00:00:00.04, start: 0.000000, bitrate: 604 kb/s\n",
            "  Stream #0:0: Video: mjpeg (Baseline), yuvj420p(pc, bt470bg/unknown/unknown), 320x240 [SAR 9:8 DAR 3:2], 25 fps, 25 tbr, 25 tbn, 25 tbc\n",
            "Stream mapping:\n",
            "  Stream #0:0 -> #0:0 (mjpeg (native) -> mjpeg (native))\n",
            "Press [q] to stop, [?] for help\n",
            "\u001b[1;34m[swscaler @ 0x5adafb6c9940] \u001b[0m\u001b[0;33mdeprecated pixel format used, make sure you did set range correctly\n",
            "\u001b[0m\u001b[1;34m[swscaler @ 0x5adafb6dc280] \u001b[0m\u001b[0;33mdeprecated pixel format used, make sure you did set range correctly\n",
            "\u001b[0mOutput #0, image2, to '/content/photo_bw.jpg':\n",
            "  Metadata:\n",
            "    encoder         : Lavf58.76.100\n",
            "  Stream #0:0: Video: mjpeg, yuvj444p(pc, bt470bg/unknown/unknown, progressive), 320x240 [SAR 9:8 DAR 3:2], q=2-31, 200 kb/s, 25 fps, 25 tbn\n",
            "    Metadata:\n",
            "      encoder         : Lavc58.134.100 mjpeg\n",
            "    Side data:\n",
            "      cpb: bitrate max/min/avg: 0/0/200000 buffer size: 0 vbv_delay: N/A\n",
            "frame=    1 fps=0.0 q=30.0 size=N/A time=00:00:00.04 bitrate=N/A speed=4e+04x    \rframe=    1 fps=0.0 q=30.0 Lsize=N/A time=00:00:00.04 bitrate=N/A speed=4.97x    \n",
            "video:3kB audio:0kB subtitle:0kB other streams:0kB global headers:0kB muxing overhead: unknown\n"
          ]
        }
      ]
    },
    {
      "cell_type": "code",
      "source": [
        "from IPython.display import Image\n",
        "Image('/content/photo_bw.jpg')"
      ],
      "metadata": {
        "colab": {
          "base_uri": "https://localhost:8080/",
          "height": 257
        },
        "id": "cAQzJap9Mh2F",
        "outputId": "7b3ec6ce-f0c4-4db8-8cc4-79166cb153d0"
      },
      "execution_count": null,
      "outputs": [
        {
          "output_type": "execute_result",
          "data": {
            "image/jpeg": "[encoded data removed]",
            "text/plain": [
              "<IPython.core.display.Image object>"
            ]
          },
          "metadata": {},
          "execution_count": 46
        }
      ]
    },
    {
      "cell_type": "code",
      "source": [
        "class ImageProcessor:\n",
        "\n",
        "    @staticmethod\n",
        "    def compress_to_bw(input_file, output_file, compression_level):\n",
        "        \"\"\"\n",
        "        Convierte una imagen a blanco y negro y la comprime.\n",
        "        Args:\n",
        "            input_file (str): Ruta del archivo de entrada.\n",
        "            output_file (str): Ruta del archivo de salida.\n",
        "            compression_level (int): Nivel de compresión (mayor = más compresión).\n",
        "        \"\"\"\n",
        "        command = [\n",
        "            \"ffmpeg\", \"-i\", input_file,\n",
        "            \"-vf\", \"format=gray\",\n",
        "            \"-q:v\", str(compression_level),\n",
        "            output_file\n",
        "        ]\n",
        "        subprocess.run(command, check=True)\n",
        "        print(f\"Black-and-white compressed image saved as {output_file}\")\n"
      ],
      "metadata": {
        "id": "usUe2KZSMmcD"
      },
      "execution_count": null,
      "outputs": []
    },
    {
      "cell_type": "code",
      "source": [
        "# Archivo de entrada y salida\n",
        "input_image = '/content/photo_low.jpg'\n",
        "output_image = '/content/photo_bw_auto.jpg'\n",
        "\n",
        "# Convertimos a blanco y negro con máxima compresión\n",
        "ImageProcessor.compress_to_bw(input_image, output_image, 50)\n",
        "\n",
        "# Mostramos la imagen resultante\n",
        "from IPython.display import Image\n",
        "Image(output_image)"
      ],
      "metadata": {
        "colab": {
          "base_uri": "https://localhost:8080/",
          "height": 274
        },
        "id": "EJg3KXO4MqS3",
        "outputId": "66ef1ff0-1ba4-4183-a8e7-e67a521cc356"
      },
      "execution_count": null,
      "outputs": [
        {
          "output_type": "stream",
          "name": "stdout",
          "text": [
            "Black-and-white compressed image saved as /content/photo_bw_auto.jpg\n"
          ]
        },
        {
          "output_type": "execute_result",
          "data": {
            "image/jpeg": "[encoded data removed]",
            "text/plain": [
              "<IPython.core.display.Image object>"
            ]
          },
          "metadata": {},
          "execution_count": 48
        }
      ]
    },
    {
      "cell_type": "code",
      "source": [
        "import os\n",
        "\n",
        "# Rutas de los archivos\n",
        "original_file = '/content/photo_low.jpg'\n",
        "compressed_file = '/content/photo_bw_auto.jpg'\n",
        "\n",
        "# Tamaños en bytes\n",
        "original_size = os.path.getsize(original_file)\n",
        "compressed_size = os.path.getsize(compressed_file)\n",
        "\n",
        "# Mostramos resultados\n",
        "print(f\"Tamaño del archivo original: {original_size} bytes\")\n",
        "print(f\"Tamaño del archivo comprimido: {compressed_size} bytes\")\n",
        "print(f\"Reducción: {original_size - compressed_size} bytes ({(1 - compressed_size/original_size) * 100:.2f}%)\")\n"
      ],
      "metadata": {
        "colab": {
          "base_uri": "https://localhost:8080/"
        },
        "id": "oCdDg1oxMszg",
        "outputId": "bb50fb07-41a4-4e38-e750-37d7060492fc"
      },
      "execution_count": null,
      "outputs": [
        {
          "output_type": "stream",
          "name": "stdout",
          "text": [
            "Tamaño del archivo original: 3024 bytes\n",
            "Tamaño del archivo comprimido: 3184 bytes\n",
            "Reducción: -160 bytes (-5.29%)\n"
          ]
        }
      ]
    },
    {
      "cell_type": "code",
      "source": [
        "from IPython.display import display, Image\n",
        "\n",
        "print(\"Imagen original:\")\n",
        "display(Image(original_file))\n",
        "\n",
        "print(\"Imagen comprimida en blanco y negro:\")\n",
        "display(Image(compressed_file))\n"
      ],
      "metadata": {
        "colab": {
          "base_uri": "https://localhost:8080/",
          "height": 532
        },
        "id": "Qzxjh8knM1YQ",
        "outputId": "d1ecce17-0160-4101-f715-1c51d554d723"
      },
      "execution_count": null,
      "outputs": [
        {
          "output_type": "stream",
          "name": "stdout",
          "text": [
            "Imagen original:\n"
          ]
        },
        {
          "output_type": "display_data",
          "data": {
            "image/jpeg": "[encoded data removed]",
            "text/plain": [
              "<IPython.core.display.Image object>"
            ]
          },
          "metadata": {}
        },
        {
          "output_type": "stream",
          "name": "stdout",
          "text": [
            "Imagen comprimida en blanco y negro:\n"
          ]
        },
        {
          "output_type": "display_data",
          "data": {
            "image/jpeg": "[encoded data removed]",
            "text/plain": [
              "<IPython.core.display.Image object>"
            ]
          },
          "metadata": {}
        }
      ]
    },
    {
      "cell_type": "markdown",
      "source": [
        "# **6.** RUN-LENGHT ENCODING"
      ],
      "metadata": {
        "id": "NapTqoVPaWGS"
      }
    },
    {
      "cell_type": "code",
      "source": [
        "class CompressionUtils:\n",
        "    @staticmethod\n",
        "    def run_length_encoding(byte_sequence):\n",
        "        \"\"\"\n",
        "        Aplica el algoritmo Run-Length Encoding (RLE) sobre una secuencia de bytes.\n",
        "        Args:\n",
        "            byte_sequence (list): Lista de bytes a comprimir.\n",
        "        Returns:\n",
        "            list: Lista de tuplas (byte, repeticiones) que representan la secuencia comprimida.\n",
        "        \"\"\"\n",
        "        encoded = []\n",
        "        i = 0\n",
        "        while i < len(byte_sequence):\n",
        "            count = 1\n",
        "            while i + 1 < len(byte_sequence) and byte_sequence[i] == byte_sequence[i + 1]:\n",
        "                i += 1\n",
        "                count += 1\n",
        "            encoded.append((byte_sequence[i], count))\n",
        "            i += 1\n",
        "        return encoded\n"
      ],
      "metadata": {
        "id": "I98ONwqlM35p"
      },
      "execution_count": null,
      "outputs": []
    },
    {
      "cell_type": "code",
      "source": [
        "# Usamos los bytes de la imagen en blanco y negro comprimida\n",
        "with open('/content/photo_bw_auto.jpg', 'rb') as f:\n",
        "    byte_sequence = list(f.read())\n",
        "\n",
        "# Aplicamos Run-Length Encoding\n",
        "encoded_bytes = CompressionUtils.run_length_encoding(byte_sequence)\n",
        "\n",
        "# Mostramos los primeros 10 elementos de la secuencia codificada\n",
        "print(\"Primeros 10 elementos del RLE:\", encoded_bytes[:10])\n"
      ],
      "metadata": {
        "colab": {
          "base_uri": "https://localhost:8080/"
        },
        "id": "1AOALhpkM_6Q",
        "outputId": "f0c5a6a9-3b50-4c2b-cc41-3b860f16ca2a"
      },
      "execution_count": null,
      "outputs": [
        {
          "output_type": "stream",
          "name": "stdout",
          "text": [
            "Primeros 10 elementos del RLE: [(255, 1), (216, 1), (255, 1), (224, 1), (0, 1), (16, 1), (74, 1), (70, 1), (73, 1), (70, 1)]\n"
          ]
        }
      ]
    },
    {
      "cell_type": "markdown",
      "source": [
        "# **7.** DCT PROCESSOR"
      ],
      "metadata": {
        "id": "b9HAtvaeadWH"
      }
    },
    {
      "cell_type": "code",
      "source": [
        "import numpy as np\n",
        "from scipy.fftpack import dct, idct\n",
        "\n",
        "class DCTProcessor:\n",
        "    def __init__(self, image_data):\n",
        "        \"\"\"\n",
        "        Constructor que recibe los datos de la imagen (como un array 2D).\n",
        "        \"\"\"\n",
        "        self.image_data = image_data\n",
        "\n",
        "    def apply_dct(self):\n",
        "        \"\"\"\n",
        "        Aplica la transformada discreta del coseno (DCT) a los datos de la imagen.\n",
        "        Devuelve los coeficientes de la DCT en las direcciones de filas y columnas.\n",
        "        \"\"\"\n",
        "        # Aplicamos DCT bidimensional (primero sobre filas, luego sobre columnas)\n",
        "        dct_image = dct(dct(self.image_data.T, norm='ortho').T, norm='ortho')\n",
        "        return dct_image\n",
        "\n",
        "    def apply_idct(self, dct_image):\n",
        "        \"\"\"\n",
        "        Aplica la inversa de la transformada discreta del coseno (IDCT) para reconstruir la imagen.\n",
        "        \"\"\"\n",
        "        # Aplicamos la IDCT bidimensional\n",
        "        idct_image = idct(idct(dct_image.T, norm='ortho').T, norm='ortho')\n",
        "        return np.uint8(np.clip(idct_image, 0, 255))  # Aseguramos que los valores estén en el rango [0, 255]\n"
      ],
      "metadata": {
        "id": "Oaf3tSIQV3z1"
      },
      "execution_count": null,
      "outputs": []
    },
    {
      "cell_type": "code",
      "source": [
        "from PIL import Image\n",
        "import numpy as np\n",
        "from scipy.fftpack import dct, idct\n",
        "\n",
        "# Cargamos la imagen comprimida y convertirla a escala de grises\n",
        "image_path = '/content/photo_bw_auto.jpg'\n",
        "img = Image.open(image_path).convert('L')  # 'L' para convertir a escala de grises\n",
        "\n",
        "# Convertimos la imagen en una matriz 2D\n",
        "image_data = np.array(img)\n",
        "\n",
        "# Creamos una instancia del procesador DCT\n",
        "dct_processor = DCTProcessor(image_data)\n",
        "\n",
        "# Aplicamos la DCT\n",
        "dct_image = dct_processor.apply_dct()\n",
        "\n",
        "# Mostramos los coeficientes de la DCT (visualización del DCT de la imagen)\n",
        "print(\"Coeficientes de la DCT (transformada):\")\n",
        "print(dct_image)\n",
        "\n",
        "# Reconstruimos la imagen con la IDCT\n",
        "reconstructed_image = dct_processor.apply_idct(dct_image)\n",
        "\n",
        "# Mostramos la imagen reconstruida\n",
        "reconstructed_img = Image.fromarray(reconstructed_image)\n",
        "reconstructed_img.show()"
      ],
      "metadata": {
        "colab": {
          "base_uri": "https://localhost:8080/"
        },
        "id": "J7aSdCmnWVwF",
        "outputId": "74be7ed9-eddc-45f1-b2b8-4b8bb81ef60d"
      },
      "execution_count": null,
      "outputs": [
        {
          "output_type": "stream",
          "name": "stdout",
          "text": [
            "Coeficientes de la DCT (transformada):\n",
            "[[ 3.45166116e+04  7.67630307e+02  2.88713396e+01 ...  1.39490585e+01\n",
            "   6.12410579e+00  3.87407362e-01]\n",
            " [ 2.04980794e+03  8.77462974e+02  1.57324390e+02 ...  2.02022074e+00\n",
            "   1.90995991e+00 -2.53067958e+00]\n",
            " [-5.93125931e+02 -7.25825611e+02 -2.52383902e+03 ...  9.27488388e+00\n",
            "   2.81686547e-01  1.02031844e+01]\n",
            " ...\n",
            " [ 5.23485550e+00 -5.16717721e+00 -8.88705984e+00 ... -1.90180042e-01\n",
            "  -1.33084445e+00  2.83212116e-01]\n",
            " [ 7.44283548e+00  2.32195663e+00  4.49053149e+00 ... -7.09761114e-01\n",
            "  -7.22365490e-01  7.84371125e-01]\n",
            " [-4.30766095e+00  8.27981146e+00  6.65212729e+00 ...  2.52316351e-01\n",
            "   2.22070924e-01 -1.16386827e+00]]\n"
          ]
        }
      ]
    },
    {
      "cell_type": "markdown",
      "source": [
        "# **8.** DWT PROCESSOR\n",
        "\n",
        "\n"
      ],
      "metadata": {
        "id": "g5Pdnt8Aaysj"
      }
    },
    {
      "cell_type": "code",
      "source": [
        "!pip install PyWavelets"
      ],
      "metadata": {
        "colab": {
          "base_uri": "https://localhost:8080/"
        },
        "id": "swpShwe1Ncn5",
        "outputId": "706aa5b7-ab95-468c-aa02-1beff84aa6a1"
      },
      "execution_count": null,
      "outputs": [
        {
          "output_type": "stream",
          "name": "stdout",
          "text": [
            "Collecting PyWavelets\n",
            "  Downloading pywavelets-1.7.0-cp310-cp310-manylinux_2_17_x86_64.manylinux2014_x86_64.whl.metadata (9.0 kB)\n",
            "Requirement already satisfied: numpy<3,>=1.23 in /usr/local/lib/python3.10/dist-packages (from PyWavelets) (1.26.4)\n",
            "Downloading pywavelets-1.7.0-cp310-cp310-manylinux_2_17_x86_64.manylinux2014_x86_64.whl (4.5 MB)\n",
            "\u001b[2K   \u001b[90m━━━━━━━━━━━━━━━━━━━━━━━━━━━━━━━━━━━━━━━━\u001b[0m \u001b[32m4.5/4.5 MB\u001b[0m \u001b[31m25.9 MB/s\u001b[0m eta \u001b[36m0:00:00\u001b[0m\n",
            "\u001b[?25hInstalling collected packages: PyWavelets\n",
            "Successfully installed PyWavelets-1.7.0\n"
          ]
        }
      ]
    },
    {
      "cell_type": "code",
      "source": [
        "import numpy as np\n",
        "import pywt\n",
        "\n",
        "class DWTProcessor:\n",
        "    def __init__(self, image_data):\n",
        "        \"\"\"\n",
        "        Constructor que recibe los datos de la imagen (como un array 2D).\n",
        "        \"\"\"\n",
        "        self.image_data = image_data\n",
        "\n",
        "    def apply_dwt(self):\n",
        "        \"\"\"\n",
        "        Aplica la transformada discreta de wavelet (DWT) a los datos de la imagen.\n",
        "        Devuelve los coeficientes de aproximación y detalle.\n",
        "        \"\"\"\n",
        "        coeffs2 = pywt.dwt2(self.image_data, 'bior1.3')  # Usando wavelet biortogonal 1.3\n",
        "        LL, (LH, HL, HH) = coeffs2  # Los 4 coeficientes: aproximación y 3 detalles\n",
        "        return LL, LH, HL, HH\n",
        "\n",
        "    def apply_idwt(self, LL, LH, HL, HH):\n",
        "        \"\"\"\n",
        "        Aplica la inversa de la transformada discreta de wavelet (IDWT) para reconstruir la imagen.\n",
        "        \"\"\"\n",
        "        return pywt.idwt2((LL, (LH, HL, HH)), 'bior1.3')\n"
      ],
      "metadata": {
        "id": "5fptFdAeNDg2"
      },
      "execution_count": null,
      "outputs": []
    },
    {
      "cell_type": "code",
      "source": [
        "from PIL import Image\n",
        "import numpy as np\n",
        "\n",
        "# Cargamos la imagen comprimida y convertimos a escala de grises\n",
        "image_path = '/content/photo_bw_auto.jpg'\n",
        "img = Image.open(image_path).convert('L')  # 'L' para convertir a escala de grises\n",
        "\n",
        "# Convertimos la imagen en una matriz 2D\n",
        "image_data = np.array(img)\n",
        "\n",
        "# Creamos una instancia del procesador DWT\n",
        "dwt_processor = DWTProcessor(image_data)\n",
        "\n",
        "# Aplicamos DWT\n",
        "LL, LH, HL, HH = dwt_processor.apply_dwt()\n",
        "\n",
        "# Mostramos los coeficientes de aproximación y detalle\n",
        "print(\"Coeficiente de aproximación (LL):\")\n",
        "print(LL)\n",
        "print(\"\\nCoeficiente de detalle (LH):\")\n",
        "print(LH)\n",
        "print(\"\\nCoeficiente de detalle (HL):\")\n",
        "print(HL)\n",
        "print(\"\\nCoeficiente de detalle (HH):\")\n",
        "print(HH)\n",
        "\n",
        "# Reconstruimos la imagen con la IDWT\n",
        "reconstructed_image = dwt_processor.apply_idwt(LL, LH, HL, HH)\n",
        "\n",
        "# Mostramos la imagen reconstruida\n",
        "reconstructed_img = Image.fromarray(reconstructed_image)\n",
        "reconstructed_img.show()\n"
      ],
      "metadata": {
        "colab": {
          "base_uri": "https://localhost:8080/"
        },
        "id": "AJ1gxvOTNgPu",
        "outputId": "c39675ea-d4ef-4143-fbaa-ea73b8498488"
      },
      "execution_count": null,
      "outputs": [
        {
          "output_type": "stream",
          "name": "stdout",
          "text": [
            "Coeficiente de aproximación (LL):\n",
            "[[273.5       273.5       284.7421875 ... 300.        300.\n",
            "  300.       ]\n",
            " [273.5       273.5       284.7421875 ... 300.        300.\n",
            "  300.       ]\n",
            " [237.203125  237.203125  248.4921875 ... 300.        300.\n",
            "  300.       ]\n",
            " ...\n",
            " [210.        210.        210.        ... 204.875     204.375\n",
            "  204.375    ]\n",
            " [210.        210.        210.        ... 204.875     204.375\n",
            "  204.375    ]\n",
            " [210.        210.        210.        ... 204.875     204.375\n",
            "  204.375    ]]\n",
            "\n",
            "Coeficiente de detalle (LH):\n",
            "[[-5.     -5.     -5.     ...  0.      0.      0.    ]\n",
            " [ 5.      5.      5.     ...  0.      0.      0.    ]\n",
            " [12.     12.     11.9375 ...  0.      0.      0.    ]\n",
            " ...\n",
            " [ 0.      0.      0.     ...  0.      0.      0.    ]\n",
            " [ 0.      0.      0.     ...  0.      0.      0.    ]\n",
            " [ 0.      0.      0.     ...  0.      0.      0.    ]]\n",
            "\n",
            "Coeficiente de detalle (HL):\n",
            "[[ 1.     -1.     -4.     ...  0.      0.      0.    ]\n",
            " [ 1.     -1.     -4.     ...  0.      0.      0.    ]\n",
            " [ 0.9375 -0.9375 -3.9375 ...  0.      0.      0.    ]\n",
            " ...\n",
            " [ 0.      0.      0.     ... 14.     -9.      9.    ]\n",
            " [ 0.      0.      0.     ... 14.     -9.      9.    ]\n",
            " [ 0.      0.      0.     ... 14.     -9.      9.    ]]\n",
            "\n",
            "Coeficiente de detalle (HH):\n",
            "[[ 0.0000000e+00  0.0000000e+00  0.0000000e+00 ...  0.0000000e+00\n",
            "   0.0000000e+00  0.0000000e+00]\n",
            " [ 0.0000000e+00  0.0000000e+00  0.0000000e+00 ...  0.0000000e+00\n",
            "   0.0000000e+00  0.0000000e+00]\n",
            " [-1.0658141e-14  1.0658141e-14  0.0000000e+00 ...  0.0000000e+00\n",
            "   0.0000000e+00  0.0000000e+00]\n",
            " ...\n",
            " [ 0.0000000e+00  0.0000000e+00  0.0000000e+00 ...  0.0000000e+00\n",
            "   0.0000000e+00  0.0000000e+00]\n",
            " [ 0.0000000e+00  0.0000000e+00  0.0000000e+00 ...  0.0000000e+00\n",
            "   0.0000000e+00  0.0000000e+00]\n",
            " [ 0.0000000e+00  0.0000000e+00  0.0000000e+00 ...  0.0000000e+00\n",
            "   0.0000000e+00  0.0000000e+00]]\n"
          ]
        }
      ]
    },
    {
      "cell_type": "markdown",
      "source": [
        "# **9.** UNIT TESTS"
      ],
      "metadata": {
        "id": "_GUi2F0Ca39X"
      }
    },
    {
      "cell_type": "code",
      "source": [
        "import unittest\n",
        "\n",
        "class TestColorConverter(unittest.TestCase):\n",
        "\n",
        "    def test_rgb_to_yuv(self):\n",
        "        # Probar la conversión de RGB a YUV\n",
        "        rgb = (100, 150, 200)\n",
        "        expected_yuv = (140.75, 29.16, -35.75)\n",
        "\n",
        "        yuv = ColorConverter.rgb_to_yuv(*rgb)\n",
        "\n",
        "        # Verificar que los resultados estén dentro de un margen de error mayor\n",
        "        self.assertAlmostEqual(yuv[0], expected_yuv[0], places=2)\n",
        "        self.assertAlmostEqual(yuv[1], expected_yuv[1], places=5)\n",
        "        self.assertAlmostEqual(yuv[2], expected_yuv[2], places=5)\n",
        "\n",
        "    def test_yuv_to_rgb(self):\n",
        "        # Probar la conversión de YUV a RGB\n",
        "        yuv = (140.75, 29.16, -35.75)  # YUV para (255, 0, 0)\n",
        "        expected_rgb = (100, 150, 200)  # RGB esperado\n",
        "\n",
        "        rgb = ColorConverter.yuv_to_rgb(*yuv)\n",
        "\n",
        "        # Verificar que los resultados estén dentro de un margen de error\n",
        "        self.assertAlmostEqual(rgb[0], expected_rgb[0], places=0)\n",
        "        self.assertAlmostEqual(rgb[1], expected_rgb[1], places=0)\n",
        "        self.assertAlmostEqual(rgb[2], expected_rgb[2], places=0)\n",
        "\n",
        "\n",
        "if __name__ == '__main__':\n",
        "    unittest.TextTestRunner().run(unittest.TestLoader().loadTestsFromTestCase(TestColorConverter))\n",
        "\n"
      ],
      "metadata": {
        "colab": {
          "base_uri": "https://localhost:8080/"
        },
        "id": "WcyvJA1mOEZH",
        "outputId": "2c0f9b0c-510b-4643-850a-6cf4b1dbc9a3"
      },
      "execution_count": null,
      "outputs": [
        {
          "output_type": "stream",
          "name": "stderr",
          "text": [
            "..\n",
            "----------------------------------------------------------------------\n",
            "Ran 2 tests in 0.009s\n",
            "\n",
            "OK\n"
          ]
        },
        {
          "output_type": "stream",
          "name": "stdout",
          "text": [
            "Input RGB values: R=100, G=150, B=200\n",
            "Input YUV values: Y=140.75, U=29.16, V=-35.75\n"
          ]
        }
      ]
    },
    {
      "cell_type": "code",
      "source": [
        "import os\n",
        "\n",
        "class TestImageCompression(unittest.TestCase):\n",
        "\n",
        "    def test_image_compression(self):\n",
        "        input_image = '/content/photo.jpg'\n",
        "        output_image = '/content/photo_compressed.jpg'\n",
        "\n",
        "        # Usamos FFmpeg para comprimir la imagen\n",
        "        os.system(f'ffmpeg -i {input_image} -q:v 10 {output_image}')  # Usamos un factor de calidad bajo (10)\n",
        "\n",
        "        # Verificamos que el archivo comprimido exista\n",
        "        self.assertTrue(os.path.exists(output_image), \"Comprimido: El archivo no se ha creado\")\n",
        "\n",
        "        # Comprobamos el tamaño del archivo original y comprimido\n",
        "        original_size = os.path.getsize(input_image)\n",
        "        compressed_size = os.path.getsize(output_image)\n",
        "\n",
        "        print(f\"Tamaño original: {original_size} bytes\")\n",
        "        print(f\"Tamaño comprimido: {compressed_size} bytes\")\n",
        "\n",
        "        # Comprobamos que el tamaño comprimido sea menor que el original\n",
        "        self.assertLess(compressed_size, original_size, \"El archivo comprimido es más grande que el original\")\n",
        "\n",
        "        # Limpiar el archivo comprimido después de la prueba\n",
        "        os.remove(output_image)\n",
        "\n",
        "if __name__ == '__main__':\n",
        "    unittest.TextTestRunner().run(unittest.TestLoader().loadTestsFromTestCase(TestImageCompression))"
      ],
      "metadata": {
        "colab": {
          "base_uri": "https://localhost:8080/"
        },
        "id": "3gLHQXnXSNbh",
        "outputId": "76c12fbb-007a-4829-f22e-5143a585acbb"
      },
      "execution_count": null,
      "outputs": [
        {
          "output_type": "stream",
          "name": "stderr",
          "text": [
            ".\n",
            "----------------------------------------------------------------------\n",
            "Ran 1 test in 0.328s\n",
            "\n",
            "OK\n"
          ]
        },
        {
          "output_type": "stream",
          "name": "stdout",
          "text": [
            "Tamaño original: 1039463 bytes\n",
            "Tamaño comprimido: 459832 bytes\n"
          ]
        }
      ]
    },
    {
      "cell_type": "code",
      "source": [
        "class TestJPEGProcessor(unittest.TestCase):\n",
        "\n",
        "    def test_serpentine(self):\n",
        "        # Definir el archivo de entrada JPEG\n",
        "        file_path = '/content/photo.jpg'  # Cambia esto a la ruta de tu imagen JPEG\n",
        "\n",
        "        # Ejecutar el método serpentine\n",
        "        serpentine_bytes = JPEGProcessor.serpentine(file_path)\n",
        "\n",
        "        # Verificar que se ha leído alguna cantidad de bytes\n",
        "        self.assertGreater(len(serpentine_bytes), 0, \"No se han leído bytes del archivo JPEG.\")\n",
        "\n",
        "        # Verificar que el patrón serpentino tiene la longitud correcta\n",
        "        # Por ejemplo, verificamos si la longitud es la misma que la longitud del archivo dividido por 16 (simulando filas de 16 bytes)\n",
        "        with open(file_path, 'rb') as file:\n",
        "            file_data = file.read()\n",
        "            expected_length = len(file_data)\n",
        "            self.assertEqual(len(serpentine_bytes), expected_length, \"La longitud de los bytes en patrón serpentino no coincide con la longitud esperada.\")\n",
        "\n",
        "if __name__ == '__main__':\n",
        "    unittest.TextTestRunner().run(unittest.TestLoader().loadTestsFromTestCase(TestJPEGProcessor))\n"
      ],
      "metadata": {
        "colab": {
          "base_uri": "https://localhost:8080/"
        },
        "id": "_Tpx-4CzUFL7",
        "outputId": "9a830a41-cb4d-4a55-a4b3-8e6b2493e3c0"
      },
      "execution_count": null,
      "outputs": [
        {
          "output_type": "stream",
          "name": "stderr",
          "text": [
            ".\n",
            "----------------------------------------------------------------------\n",
            "Ran 1 test in 0.057s\n",
            "\n",
            "OK\n"
          ]
        }
      ]
    },
    {
      "cell_type": "code",
      "source": [
        "class TestImageProcessor(unittest.TestCase):\n",
        "\n",
        "    def test_compress_to_bw(self):\n",
        "        # Definir las rutas de entrada y salida\n",
        "        input_file = '/content/photo.jpg'  # Cambia esto a la ruta de tu imagen\n",
        "        output_file = '/content/photo_bw_compressed.jpg'\n",
        "        compression_level = 10  # Nivel de compresión (ajústalo según sea necesario)\n",
        "\n",
        "        # Ejecutar la conversión a blanco y negro con compresión\n",
        "        ImageProcessor.compress_to_bw(input_file, output_file, compression_level)\n",
        "\n",
        "        # Verificar que el archivo de salida se haya creado\n",
        "        self.assertTrue(os.path.exists(output_file), \"El archivo comprimido no fue creado.\")\n",
        "\n",
        "        # Verificar que la imagen convertida y comprimida tiene un tamaño razonable\n",
        "        original_size = os.path.getsize(input_file)\n",
        "        compressed_size = os.path.getsize(output_file)\n",
        "        self.assertLess(compressed_size, original_size, \"El archivo comprimido debería ser más pequeño que el archivo original.\")\n",
        "\n",
        "        # Limpiar el archivo de salida después de la prueba\n",
        "        os.remove(output_file)\n",
        "\n",
        "if __name__ == '__main__':\n",
        "    unittest.TextTestRunner().run(unittest.TestLoader().loadTestsFromTestCase(TestImageProcessor))\n"
      ],
      "metadata": {
        "colab": {
          "base_uri": "https://localhost:8080/"
        },
        "id": "tWEbRjc7UhQT",
        "outputId": "659776fb-6332-4b0f-e046-85ca48350bd6"
      },
      "execution_count": null,
      "outputs": [
        {
          "output_type": "stream",
          "name": "stderr",
          "text": [
            ".\n",
            "----------------------------------------------------------------------\n",
            "Ran 1 test in 0.645s\n",
            "\n",
            "OK\n"
          ]
        },
        {
          "output_type": "stream",
          "name": "stdout",
          "text": [
            "Black-and-white compressed image saved as /content/photo_bw_compressed.jpg\n"
          ]
        }
      ]
    },
    {
      "cell_type": "code",
      "source": [
        "class TestRLE(unittest.TestCase):\n",
        "\n",
        "    def test_rle_encoding_decoding(self):\n",
        "        # Secuencia de bytes de prueba\n",
        "        original_data = [1, 1, 1, 0, 0, 2, 2, 2, 2, 3]\n",
        "\n",
        "        # Codificamos la secuencia\n",
        "        encoded_data = RLE.encode(original_data)\n",
        "        print(f\"Datos codificados: {encoded_data}\")\n",
        "\n",
        "        # Decodificamos la secuencia\n",
        "        decoded_data = RLE.decode(encoded_data)\n",
        "        print(f\"Datos decodificados: {decoded_data}\")\n",
        "\n",
        "        # Comprobamos que los datos originales y decodificados sean iguales\n",
        "        self.assertEqual(original_data, decoded_data, \"Los datos decodificados no coinciden con los originales\")\n",
        "\n",
        "if __name__ == '__main__':\n",
        "    unittest.TextTestRunner().run(unittest.TestLoader().loadTestsFromTestCase(TestRLE))"
      ],
      "metadata": {
        "colab": {
          "base_uri": "https://localhost:8080/"
        },
        "id": "DOFAkBKGSPPu",
        "outputId": "ee4891b6-7f7f-483f-b993-e6ee9f2a1139"
      },
      "execution_count": null,
      "outputs": [
        {
          "output_type": "stream",
          "name": "stderr",
          "text": [
            ".\n",
            "----------------------------------------------------------------------\n",
            "Ran 1 test in 0.011s\n",
            "\n",
            "OK\n"
          ]
        },
        {
          "output_type": "stream",
          "name": "stdout",
          "text": [
            "Datos codificados: [(1, 3), (0, 2), (2, 4), (3, 1)]\n",
            "Datos decodificados: [1, 1, 1, 0, 0, 2, 2, 2, 2, 3]\n"
          ]
        }
      ]
    },
    {
      "cell_type": "code",
      "source": [
        "import numpy as np\n",
        "from PIL import Image\n",
        "from scipy.fftpack import dct, idct\n",
        "\n",
        "class TestDCTProcessor(unittest.TestCase):\n",
        "\n",
        "    def setUp(self):\n",
        "        \"\"\"\n",
        "        Configuración inicial para las pruebas. Carga una imagen de prueba y la convierte en escala de grises.\n",
        "        \"\"\"\n",
        "        image_path = '/content/photo_bw_auto.jpg'  # Ajusta esta ruta si es necesario\n",
        "        img = Image.open(image_path).convert('L')\n",
        "        self.image_data = np.array(img)\n",
        "        self.dct_processor = DCTProcessor(self.image_data)\n",
        "\n",
        "    def test_dct(self):\n",
        "        \"\"\"\n",
        "        Verifica que la DCT se aplique correctamente.\n",
        "        La imagen transformada no debe ser igual a la original.\n",
        "        \"\"\"\n",
        "        dct_image = self.dct_processor.apply_dct()\n",
        "        # Aseguramos que los coeficientes de DCT no sean iguales a la imagen original\n",
        "        self.assertFalse(np.array_equal(dct_image, self.image_data), \"La DCT no se aplicó correctamente\")\n",
        "\n",
        "    def test_idct(self):\n",
        "        \"\"\"\n",
        "        Verifica que la IDCT reconstruya la imagen correctamente.\n",
        "        La imagen reconstruida debe ser lo más parecida posible a la original.\n",
        "        \"\"\"\n",
        "        dct_image = self.dct_processor.apply_dct()\n",
        "        reconstructed_image = self.dct_processor.apply_idct(dct_image)\n",
        "        # Comprobamos que la imagen reconstruida sea parecida a la original\n",
        "        self.assertTrue(np.allclose(self.image_data, reconstructed_image, atol=1), \"La imagen reconstruida no coincide con la original\")\n",
        "\n",
        "    def test_pixel_range(self):\n",
        "        \"\"\"\n",
        "        Verifica que los valores de píxel en la imagen reconstruida estén dentro del rango [0, 255].\n",
        "        \"\"\"\n",
        "        dct_image = self.dct_processor.apply_dct()\n",
        "        reconstructed_image = self.dct_processor.apply_idct(dct_image)\n",
        "        # Comprobamos que los valores de la imagen reconstruida estén dentro del rango [0, 255]\n",
        "        self.assertTrue(np.all((reconstructed_image >= 0) & (reconstructed_image <= 255)), \"Los valores de los píxeles están fuera del rango [0, 255]\")\n",
        "\n",
        "if __name__ == '__main__':\n",
        "    unittest.TextTestRunner().run(unittest.TestLoader().loadTestsFromTestCase(TestDCTProcessor))\n"
      ],
      "metadata": {
        "colab": {
          "base_uri": "https://localhost:8080/"
        },
        "id": "vscikB-EWaQf",
        "outputId": "ea48c418-475a-4d52-9fbb-eff98bab3fcb"
      },
      "execution_count": null,
      "outputs": [
        {
          "output_type": "stream",
          "name": "stderr",
          "text": [
            "...\n",
            "----------------------------------------------------------------------\n",
            "Ran 3 tests in 0.025s\n",
            "\n",
            "OK\n"
          ]
        }
      ]
    },
    {
      "cell_type": "code",
      "source": [
        "import pywt\n",
        "\n",
        "class TestDWT(unittest.TestCase):\n",
        "\n",
        "    def test_dwt_idwt(self):\n",
        "        # Crear una matriz de datos (simulando una imagen de 4x4)\n",
        "        original_data = np.array([[1, 2, 3, 4],\n",
        "                                  [5, 6, 7, 8],\n",
        "                                  [9, 10, 11, 12],\n",
        "                                  [13, 14, 15, 16]])\n",
        "\n",
        "        # Aplicar DWT\n",
        "        coeffs = DWTTransformer.apply_dwt(original_data)\n",
        "        print(f\"Coeficientes DWT: {coeffs}\")\n",
        "\n",
        "        # Aplicar la transformada inversa (IDWT)\n",
        "        reconstructed_data = DWTTransformer.apply_idwt(coeffs)\n",
        "        print(f\"Datos reconstruidos (IDWT): {reconstructed_data}\")\n",
        "\n",
        "        # Comprobamos que los datos originales y los reconstruidos sean iguales\n",
        "        np.testing.assert_almost_equal(original_data, reconstructed_data, decimal=2, err_msg=\"Los datos reconstruidos no coinciden con los originales\")\n",
        "\n",
        "if __name__ == '__main__':\n",
        "    unittest.TextTestRunner().run(unittest.TestLoader().loadTestsFromTestCase(TestDWT))\n"
      ],
      "metadata": {
        "colab": {
          "base_uri": "https://localhost:8080/"
        },
        "id": "jkUOLSvISWyC",
        "outputId": "5bec0a52-9703-4ab1-b8e1-deb7c8bab9de"
      },
      "execution_count": null,
      "outputs": [
        {
          "output_type": "stream",
          "name": "stderr",
          "text": [
            ".\n",
            "----------------------------------------------------------------------\n",
            "Ran 1 test in 0.009s\n",
            "\n",
            "OK\n"
          ]
        },
        {
          "output_type": "stream",
          "name": "stdout",
          "text": [
            "Coeficientes DWT: (array([[ 7., 11.],\n",
            "       [23., 27.]]), (array([[-4., -4.],\n",
            "       [-4., -4.]]), array([[-1., -1.],\n",
            "       [-1., -1.]]), array([[ 0.0000000e+00,  4.4408921e-16],\n",
            "       [-4.4408921e-16,  0.0000000e+00]])))\n",
            "Datos reconstruidos (IDWT): [[ 1.  2.  3.  4.]\n",
            " [ 5.  6.  7.  8.]\n",
            " [ 9. 10. 11. 12.]\n",
            " [13. 14. 15. 16.]]\n"
          ]
        }
      ]
    }
  ]
}